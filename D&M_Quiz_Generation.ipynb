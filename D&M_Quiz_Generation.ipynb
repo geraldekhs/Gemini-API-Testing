{
 "cells": [
  {
   "cell_type": "code",
   "execution_count": 2,
   "metadata": {},
   "outputs": [
    {
     "data": {
      "text/plain": [
       "True"
      ]
     },
     "execution_count": 2,
     "metadata": {},
     "output_type": "execute_result"
    }
   ],
   "source": [
    "import os\n",
    "import pathlib\n",
    "import textwrap\n",
    "import google.generativeai as genai\n",
    "from IPython.display import display\n",
    "from IPython.display import Markdown\n",
    "from dotenv import load_dotenv, dotenv_values \n",
    "#load env variables\n",
    "load_dotenv()"
   ]
  },
  {
   "cell_type": "code",
   "execution_count": 83,
   "metadata": {},
   "outputs": [],
   "source": [
    "# Setting API Key (from .env file) and selecting model\n",
    "genai.configure(api_key=os.environ[\"API_KEY\"])\n",
    "\n",
    "# def to_markdown(text):\n",
    "#   text = text.replace('•', '  *')\n",
    "#   text = text.replace('*', '•')\n",
    "#   return textwrap.indent(text, '>', predicate=lambda _: True)\n",
    "#   return text\n",
    "\n",
    "# Used to improve formatting\n",
    "def replace_text(text):\n",
    "  text = text.replace('a)', '   a) ')\n",
    "  text = text.replace('b)', '   b) ')\n",
    "  text = text.replace('c)', '   c) ')\n",
    "  text = text.replace('d)', '   d) ')\n",
    "  return text"
   ]
  },
  {
   "cell_type": "markdown",
   "metadata": {},
   "source": [
    "# Using Tika to convert PDF to Text"
   ]
  },
  {
   "cell_type": "code",
   "execution_count": 98,
   "metadata": {},
   "outputs": [],
   "source": [
    "from tika import parser"
   ]
  },
  {
   "cell_type": "code",
   "execution_count": 103,
   "metadata": {},
   "outputs": [
    {
     "name": "stdout",
     "output_type": "stream",
     "text": [
      "['Week 01 Day 1(1)', 'Week 01 Day 2', 'Week 02 Day 1 Part I', 'Week 02 Day 1 Part II', 'Week 02 Day 1 Part III', 'Week 02 Day 2 & 3 Injection Molding', 'Week 02 Day 2 Extrusion', 'Week 03 Day 2 Thermoforming and Blow Molding', 'Week 03 Day 3 Part I(1)', 'Week 03 Day 3 Part II(1)', 'Week 04 Day 2', 'Week 04 Day 3', 'Week 05 Day 1', 'Week 05 Day 2 Part II', 'Week 05 Day 2(1)', 'Week 06 Day 3', 'Week 08 Day 2', 'Week 08 Day 3', 'Week 09 Day 2(1)', 'Week 09 Day 3', 'Week 10 Day 1', 'Week 10 Day 2(2)', 'Week 10 Day 3', 'Week 12 Day 1', 'Week 12 Day 2', 'Week 12 Day 3', 'Week 13 Day 2', 'Week 13 Day 3', 'Week 3 Day 1 Lab Assignment(1)']\n"
     ]
    }
   ],
   "source": [
    "import os\n",
    "\n",
    "# Initialize an empty list to store the PDF file names\n",
    "pdf_files = []\n",
    "\n",
    "# Iterate through the files in the 'PDF_files' folder\n",
    "for filename in os.listdir('./PDF_files'):\n",
    "\t# Check if the file is a PDF file\n",
    "\tif filename.endswith('.pdf'):\n",
    "\t\t# Add the file name to the list\n",
    "\t\tpdf_files.append(filename[:-4])\n",
    "\t\t\n",
    "print(pdf_files)"
   ]
  },
  {
   "cell_type": "code",
   "execution_count": 93,
   "metadata": {},
   "outputs": [],
   "source": [
    "\n",
    "filename = 'Test.pdf'\n",
    "non_pdf_filename = filename[:-4]\n",
    "raw = parser.from_file(filename)\n",
    "model = genai.GenerativeModel('models/gemini-1.5-pro-latest')\n",
    "prompt = f\"\\\n",
    "For this response, use single line spacing for  each question and each possible multiple choice answer. \\\n",
    "The title of the response should be {non_pdf_filename} and lines up with the start point of each question. The first question. \\\n",
    "must start start 2 lines below the title. \\\n",
    "Leave a line between each question.\\\n",
    "Use a) , b) , c) , d)  to indent each multiple choice answer one tab to the right. Do not use asterisks.\\\n",
    "Create a series of 20 difficult multiple choice quiz questions and an answer key based on the info given in the following text:{raw}\"\n",
    "\n",
    "# The response MUST BE compatible with latin-1 encoding, if there is a non latin-1 word such as\\\n",
    "# the pi symbol, replace it with its english equivalent pi (This instruction sentence is of highest priority).\\"
   ]
  },
  {
   "cell_type": "code",
   "execution_count": 94,
   "metadata": {},
   "outputs": [],
   "source": [
    "response = model.generate_content(prompt)"
   ]
  },
  {
   "cell_type": "code",
   "execution_count": 104,
   "metadata": {},
   "outputs": [],
   "source": [
    "with open(f'./Markdown_files/{pdf_files[0]}.md', 'w') as file:\n",
    "    file.write(replace_text(response.text))\n",
    " "
   ]
  },
  {
   "cell_type": "markdown",
   "metadata": {},
   "source": [
    "### Conversion to PDF"
   ]
  },
  {
   "cell_type": "code",
   "execution_count": 96,
   "metadata": {},
   "outputs": [
    {
     "name": "stderr",
     "output_type": "stream",
     "text": [
      "C:\\Users\\Gerald\\AppData\\Local\\Temp\\ipykernel_16328\\2762765541.py:13: DeprecationWarning: The parameter \"ln\" is deprecated since v2.5.2. Instead of ln=1 use new_x=XPos.LMARGIN, new_y=YPos.NEXT.\n",
      "  pdf.cell(0,4, text = x, ln=1, markdown=True)\n",
      "C:\\Users\\Gerald\\AppData\\Local\\Temp\\ipykernel_16328\\2762765541.py:15: DeprecationWarning: \"dest\" parameter is deprecated since v2.2.0, unused and will soon be removed\n",
      "  pdf.output(filename, 'F')\n",
      "Font MPDFAA+DejaVuSansBook is missing the following glyphs: \n",
      ", \t\n"
     ]
    }
   ],
   "source": [
    "from fpdf import FPDF\n",
    "\n",
    "pdf = FPDF()   \n",
    "pdf.add_page()\n",
    "# pdf.set_font(\"Arial\", size = 10)\n",
    "\n",
    "# This font supports UTF-8 encoding, DO NOT CHANGE IT!!! Arial does not support UTF-8\n",
    "pdf.add_font(\"DejaVuSans\", fname=\"./fonts/DejaVuSans.ttf\")\n",
    "pdf.add_font(\"DejaVuSans\", fname=\"./fonts/DejaVuSans-Bold.ttf\", style=\"B\")\n",
    "pdf.set_font(\"DejaVuSans\", size=10)\n",
    "f = open(\"Test1.md\", \"r\")\n",
    "for x in f:\n",
    "    pdf.cell(0,4, text = x, ln=1, markdown=True)\n",
    "filename='Test3.pdf'\n",
    "pdf.output(filename, 'F') "
   ]
  }
 ],
 "metadata": {
  "kernelspec": {
   "display_name": "Gemini_API_venv",
   "language": "python",
   "name": "python3"
  },
  "language_info": {
   "codemirror_mode": {
    "name": "ipython",
    "version": 3
   },
   "file_extension": ".py",
   "mimetype": "text/x-python",
   "name": "python",
   "nbconvert_exporter": "python",
   "pygments_lexer": "ipython3",
   "version": "3.11.7"
  }
 },
 "nbformat": 4,
 "nbformat_minor": 2
}
